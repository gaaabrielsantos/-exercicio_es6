{
  "nbformat": 4,
  "nbformat_minor": 0,
  "metadata": {
    "colab": {
      "provenance": [],
      "authorship_tag": "ABX9TyMpkCBipn3dIjuD0TxK2kYj",
      "include_colab_link": true
    },
    "kernelspec": {
      "name": "python3",
      "display_name": "Python 3"
    },
    "language_info": {
      "name": "python"
    }
  },
  "cells": [
    {
      "cell_type": "markdown",
      "metadata": {
        "id": "view-in-github",
        "colab_type": "text"
      },
      "source": [
        "<a href=\"https://colab.research.google.com/github/gaaabrielsantos/-exercicio_es6/blob/main/Qtd_CDs_e_M%C3%A9dia_de_venda.ipynb\" target=\"_parent\"><img src=\"https://colab.research.google.com/assets/colab-badge.svg\" alt=\"Open In Colab\"/></a>"
      ]
    },
    {
      "cell_type": "code",
      "execution_count": null,
      "metadata": {
        "colab": {
          "base_uri": "https://localhost:8080/"
        },
        "id": "ULcQ2jpzQ18_",
        "outputId": "2589b3c8-2047-44b2-bf93-82c6d9ad70f4"
      },
      "outputs": [
        {
          "output_type": "stream",
          "name": "stdout",
          "text": [
            "Digite a quantidade de CDs: 5\n",
            "Digite o preço do CD 1: 20\n",
            "Digite o preço do CD 2: 25\n",
            "Digite o preço do CD 3: 20\n",
            "Digite o preço do CD 4: 35\n",
            "Digite o preço do CD 5: 50\n",
            "Preço total: R$150.00\n",
            "Média de custo por CD: R$30.00\n"
          ]
        }
      ],
      "source": [
        "cds = int(input(\"Digite a quantidade de CDs: \"))\n",
        "\n",
        "preco = 0\n",
        "\n",
        "for i in range(cds):\n",
        "\n",
        "    preco += float(input(f\"Digite o preço do CD {i+1}: \"))\n",
        "\n",
        "print(f\"Preço total: R${preco:.2f}\\nMédia de custo por CD: R${preco/cds:.2f}\")"
      ]
    }
  ]
}