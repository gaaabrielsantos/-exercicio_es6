{
  "nbformat": 4,
  "nbformat_minor": 0,
  "metadata": {
    "colab": {
      "provenance": [],
      "authorship_tag": "ABX9TyO8DB/TXL+mQir56ELgRejs",
      "include_colab_link": true
    },
    "kernelspec": {
      "name": "python3",
      "display_name": "Python 3"
    },
    "language_info": {
      "name": "python"
    }
  },
  "cells": [
    {
      "cell_type": "markdown",
      "metadata": {
        "id": "view-in-github",
        "colab_type": "text"
      },
      "source": [
        "<a href=\"https://colab.research.google.com/github/gaaabrielsantos/-exercicio_es6/blob/main/Modulo_Arquivos_e_Funcoes.ipynb\" target=\"_parent\"><img src=\"https://colab.research.google.com/assets/colab-badge.svg\" alt=\"Open In Colab\"/></a>"
      ]
    },
    {
      "cell_type": "code",
      "execution_count": 1,
      "metadata": {
        "colab": {
          "base_uri": "https://localhost:8080/"
        },
        "id": "qf9vJR15MCWp",
        "outputId": "abdbcbed-46a9-4eb7-b540-3dc3ada9cf7e"
      },
      "outputs": [
        {
          "output_type": "stream",
          "name": "stdout",
          "text": [
            "Writing carros.csv\n"
          ]
        }
      ],
      "source": [
        "%%writefile carros.csv\n",
        "\n",
        "id,valor_venda,valor_manutencao,portas,pessoas,porta_malas\n",
        "\n",
        "1,vhigh,med,2,2,small\n",
        "\n",
        "2,med,vhigh,2,2,small\n",
        "\n",
        "3,low,vhigh,2,2,small\n",
        "\n",
        "4,low,high,2,2,small\n",
        "\n",
        "5,low,high,2,2,small\n",
        "\n",
        "6,low,high,4,4,big\n",
        "\n",
        "7,low,high,4,4,big\n",
        "\n",
        "8,low,med,2,2,small\n",
        "\n",
        "9,low,med,2,2,small\n",
        "\n",
        "10,low,med,2,2,small\n",
        "\n",
        "11,low,med,4,4,big\n",
        "\n",
        "12,low,low,2,2,small\n",
        "\n",
        "13,low,low,4,4,small\n",
        "\n",
        "14,low,low,4,4,med"
      ]
    },
    {
      "cell_type": "code",
      "source": [
        "%%writefile musica.txt\n",
        "Roda Viva\n",
        "Chico Buarque\n",
        "Tem dias que a gente se sente\n",
        "Como quem partiu ou morreu\n",
        "A gente estancou de repente\n",
        "Ou foi o mundo então que cresceu\n",
        "A gente quer ter voz ativa\n",
        "No nosso destino mandar\n",
        "Mas eis que chega a roda viva\n",
        "E carrega o destino pra lá\n",
        "Roda mundo, roda-gigante\n",
        "Roda moinho, roda pião\n",
        "O tempo rodou num instante\n",
        "Nas voltas do meu coração\n",
        "A gente vai contra a corrente\n",
        "Até não poder resistir\n",
        "Na volta do barco é que sente\n",
        "O quanto deixou de cumprir\n",
        "Faz tempo que a gente cultiva\n",
        "A mais linda roseira que há\n",
        "Mas eis que chega a roda viva\n",
        "E carrega a roseira pra lá\n",
        "Roda mundo, roda-gigante\n",
        "Roda moinho, roda pião"
      ],
      "metadata": {
        "colab": {
          "base_uri": "https://localhost:8080/"
        },
        "id": "AbdtNUwkMJrK",
        "outputId": "c0829b98-c057-42d6-8bf4-80626d9bbacd"
      },
      "execution_count": 2,
      "outputs": [
        {
          "output_type": "stream",
          "name": "stdout",
          "text": [
            "Writing musica.txt\n"
          ]
        }
      ]
    },
    {
      "cell_type": "code",
      "source": [
        "def extrai_coluna_csv(nome_arquivo: str, indice_coluna: int, tipo_dado: str):\n",
        "    coluna = []\n",
        "\n",
        "    with open(nome_arquivo, 'r') as arquivo:\n",
        "        linhas = arquivo.readlines()[1:]\n",
        "\n",
        "        for linha in linhas:\n",
        "            valores = linha.split(',')\n",
        "\n",
        "            if 0 <= indice_coluna < len(valores):\n",
        "                valor = valores[indice_coluna]\n",
        "\n",
        "                try:\n",
        "                    if tipo_dado == 'int':\n",
        "                        valor_convertido = int(valor)\n",
        "                    elif tipo_dado == 'float':\n",
        "                        valor_convertido = float(valor)\n",
        "                    else:\n",
        "                        valor_convertido = valor\n",
        "                    coluna.append(valor_convertido)\n",
        "                except ValueError:\n",
        "                    print(f\"Erro ao converter valor '{valor}' para {tipo_dado} na linha: {linha.strip()}\")\n",
        "\n",
        "            else:\n",
        "                print(f\"Erro {linha.strip()}\")\n",
        "                coluna.append(None)\n",
        "\n",
        "    return coluna"
      ],
      "metadata": {
        "id": "-mGEFm-bMv8F"
      },
      "execution_count": 65,
      "outputs": []
    },
    {
      "cell_type": "code",
      "source": [
        "# extrair a coluna valor_venda\n",
        "valor_venda = extrai_coluna_csv(\n",
        "    nome_arquivo='carros.csv',\n",
        "    indice_coluna=1,\n",
        "    tipo_dado='str'\n",
        ")\n",
        "\n",
        "print(valor_venda)  # deve retornar ['vhigh', 'med', 'low', ...]"
      ],
      "metadata": {
        "colab": {
          "base_uri": "https://localhost:8080/"
        },
        "id": "cFiACLgPJm2g",
        "outputId": "23263d9b-31ab-4657-b964-14edff78af08"
      },
      "execution_count": 63,
      "outputs": [
        {
          "output_type": "stream",
          "name": "stdout",
          "text": [
            "Erro \n",
            "Erro \n",
            "Erro \n",
            "Erro \n",
            "Erro \n",
            "Erro \n",
            "Erro \n",
            "Erro \n",
            "Erro \n",
            "Erro \n",
            "Erro \n",
            "Erro \n",
            "Erro \n",
            "Erro \n",
            "['valor_venda', None, 'vhigh', None, 'med', None, 'low', None, 'low', None, 'low', None, 'low', None, 'low', None, 'low', None, 'low', None, 'low', None, 'low', None, 'low', None, 'low', None, 'low']\n"
          ]
        }
      ]
    },
    {
      "cell_type": "code",
      "source": [
        "# extrair a coluna pessoas\n",
        "pessoas = extrai_coluna_csv(\n",
        "    nome_arquivo='carros.csv',\n",
        "    indice_coluna=4,\n",
        "    tipo_dado='int'\n",
        ")\n",
        "\n",
        "print(pessoas)  # deve retornar [2, 2, 2, 2, 2, 4, 4, 2, 2, 2, 4, 2, 4, 4]\n"
      ],
      "metadata": {
        "colab": {
          "base_uri": "https://localhost:8080/"
        },
        "id": "rK8D-cCvMF4J",
        "outputId": "500d99a4-cc41-4f00-8c1a-13004e0f98ef"
      },
      "execution_count": 55,
      "outputs": [
        {
          "output_type": "stream",
          "name": "stdout",
          "text": [
            "Erro ao converter valor 'pessoas' para int na linha: id,valor_venda,valor_manutencao,portas,pessoas,porta_malas\n",
            "Erro \n",
            "Erro \n",
            "Erro \n",
            "Erro \n",
            "Erro \n",
            "Erro \n",
            "Erro \n",
            "Erro \n",
            "Erro \n",
            "Erro \n",
            "Erro \n",
            "Erro \n",
            "Erro \n",
            "Erro \n",
            "[None, 2, None, 2, None, 2, None, 2, None, 2, None, 4, None, 4, None, 2, None, 2, None, 2, None, 4, None, 2, None, 4, None, 4]\n"
          ]
        }
      ]
    },
    {
      "cell_type": "code",
      "source": [
        "def extrai_linha_txt(nome_arquivo: str, numero_linha: int):\n",
        "    palavras_linha = []\n",
        "\n",
        "    with open(nome_arquivo, 'r') as arquivo:\n",
        "        linhas = arquivo.readlines()\n",
        "\n",
        "        if 0 <= numero_linha < len(linhas):  # Verifica se a linha existe\n",
        "            linha = linhas[numero_linha].strip()  # Remove espaços e quebras de linha\n",
        "            palavras_linha = linha.split(' ')  # Separa em palavras\n",
        "\n",
        "    return palavras_linha\n"
      ],
      "metadata": {
        "id": "xYeP0sgMMiKT"
      },
      "execution_count": 56,
      "outputs": []
    },
    {
      "cell_type": "code",
      "source": [
        "linha8 = extrai_linha_txt(nome_arquivo='musica.txt', numero_linha=8)\n",
        "\n",
        "print(linha8)  # deve retornar ['Mas', 'eis', 'que', 'chega', 'a', 'roda', 'viva']\n"
      ],
      "metadata": {
        "colab": {
          "base_uri": "https://localhost:8080/"
        },
        "id": "VD6bjib1Mtmk",
        "outputId": "b3b9ac06-4ea7-4315-93f6-74648e7835eb"
      },
      "execution_count": 29,
      "outputs": [
        {
          "output_type": "stream",
          "name": "stdout",
          "text": [
            "['Mas', 'eis', 'que', 'chega', 'a', 'roda', 'viva']\n"
          ]
        }
      ]
    }
  ]
}